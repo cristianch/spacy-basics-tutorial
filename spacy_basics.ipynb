{
 "cells": [
  {
   "cell_type": "markdown",
   "metadata": {},
   "source": [
    "# Importing spaCy"
   ]
  },
  {
   "cell_type": "code",
   "execution_count": 1,
   "metadata": {},
   "outputs": [],
   "source": [
    "import spacy"
   ]
  },
  {
   "cell_type": "code",
   "execution_count": 2,
   "metadata": {},
   "outputs": [],
   "source": [
    "nlp = spacy.load('en_core_web_lg')"
   ]
  },
  {
   "cell_type": "markdown",
   "metadata": {},
   "source": [
    "# Loading some text into spaCy"
   ]
  },
  {
   "cell_type": "code",
   "execution_count": 3,
   "metadata": {},
   "outputs": [
    {
     "data": {
      "text/plain": [
       "\"I recently had a meal at the new Italian restaurant across the street. The food was delicious! They have an impressive selection of authentic pizzas made with real Italian buffalo Mozzarella cheese. Of course, their range of pasta dishes should not be overlooked. The portion of perfectly cooked spaghetti in a creamy garlic and mushroom sauce that I had was probably one of the best dishes I've tasted.\""
      ]
     },
     "execution_count": 3,
     "metadata": {},
     "output_type": "execute_result"
    }
   ],
   "source": [
    "text = 'I recently had a meal at the new Italian restaurant across the street. The food was delicious! ' \\\n",
    "       'They have an impressive selection of authentic pizzas made with real Italian buffalo Mozzarella cheese. ' \\\n",
    "       'Of course, their range of pasta dishes should not be overlooked. The portion of perfectly cooked ' \\\n",
    "       'spaghetti in a creamy garlic and mushroom sauce that I had was probably one of the best dishes I\\'ve ' \\\n",
    "       'tasted.'\n",
    "text"
   ]
  },
  {
   "cell_type": "code",
   "execution_count": 4,
   "metadata": {},
   "outputs": [],
   "source": [
    "text_doc = nlp(text)"
   ]
  },
  {
   "cell_type": "markdown",
   "metadata": {},
   "source": [
    "# Splitting into sentences"
   ]
  },
  {
   "cell_type": "code",
   "execution_count": 5,
   "metadata": {},
   "outputs": [],
   "source": [
    "sentence_list = list(text_doc.sents)"
   ]
  },
  {
   "cell_type": "code",
   "execution_count": 6,
   "metadata": {},
   "outputs": [
    {
     "data": {
      "text/plain": [
       "5"
      ]
     },
     "execution_count": 6,
     "metadata": {},
     "output_type": "execute_result"
    }
   ],
   "source": [
    "len(sentence_list)"
   ]
  },
  {
   "cell_type": "code",
   "execution_count": 7,
   "metadata": {},
   "outputs": [
    {
     "data": {
      "text/plain": [
       "The portion of perfectly cooked spaghetti in a creamy garlic and mushroom sauce that I had was probably one of the best dishes I've tasted."
      ]
     },
     "execution_count": 7,
     "metadata": {},
     "output_type": "execute_result"
    }
   ],
   "source": [
    "sentence_list[4]"
   ]
  },
  {
   "cell_type": "code",
   "execution_count": 8,
   "metadata": {},
   "outputs": [
    {
     "data": {
      "text/plain": [
       "27"
      ]
     },
     "execution_count": 8,
     "metadata": {},
     "output_type": "execute_result"
    }
   ],
   "source": [
    "len(sentence_list[4])"
   ]
  },
  {
   "cell_type": "code",
   "execution_count": 10,
   "metadata": {},
   "outputs": [
    {
     "data": {
      "text/plain": [
       "tasted"
      ]
     },
     "execution_count": 10,
     "metadata": {},
     "output_type": "execute_result"
    }
   ],
   "source": [
    "sentence_list[4][25]"
   ]
  },
  {
   "cell_type": "code",
   "execution_count": 11,
   "metadata": {},
   "outputs": [
    {
     "data": {
      "text/plain": [
       "'taste'"
      ]
     },
     "execution_count": 11,
     "metadata": {},
     "output_type": "execute_result"
    }
   ],
   "source": [
    "sentence_list[4][25].lemma_"
   ]
  },
  {
   "cell_type": "markdown",
   "metadata": {},
   "source": [
    "# Part of speech tagging"
   ]
  },
  {
   "cell_type": "code",
   "execution_count": 12,
   "metadata": {},
   "outputs": [
    {
     "data": {
      "text/plain": [
       "I recently had a meal at the new Italian restaurant across the street."
      ]
     },
     "execution_count": 12,
     "metadata": {},
     "output_type": "execute_result"
    }
   ],
   "source": [
    "sentence = sentence_list[0]\n",
    "sentence"
   ]
  },
  {
   "cell_type": "code",
   "execution_count": 13,
   "metadata": {},
   "outputs": [
    {
     "data": {
      "text/plain": [
       "(I, 'PRON')"
      ]
     },
     "execution_count": 13,
     "metadata": {},
     "output_type": "execute_result"
    }
   ],
   "source": [
    "token = sentence[0]\n",
    "token, token.pos_"
   ]
  },
  {
   "cell_type": "code",
   "execution_count": 14,
   "metadata": {},
   "outputs": [],
   "source": [
    "part_of_speech_list = [(token, token.pos_) for token in sentence]"
   ]
  },
  {
   "cell_type": "code",
   "execution_count": 15,
   "metadata": {},
   "outputs": [
    {
     "data": {
      "text/plain": [
       "[(I, 'PRON'),\n",
       " (recently, 'ADV'),\n",
       " (had, 'VERB'),\n",
       " (a, 'DET'),\n",
       " (meal, 'NOUN'),\n",
       " (at, 'ADP'),\n",
       " (the, 'DET'),\n",
       " (new, 'ADJ'),\n",
       " (Italian, 'ADJ'),\n",
       " (restaurant, 'NOUN'),\n",
       " (across, 'ADP'),\n",
       " (the, 'DET'),\n",
       " (street, 'NOUN'),\n",
       " (., 'PUNCT')]"
      ]
     },
     "execution_count": 15,
     "metadata": {},
     "output_type": "execute_result"
    }
   ],
   "source": [
    "part_of_speech_list"
   ]
  },
  {
   "cell_type": "markdown",
   "metadata": {},
   "source": [
    "# Sentence dependencies"
   ]
  },
  {
   "cell_type": "code",
   "execution_count": 16,
   "metadata": {},
   "outputs": [
    {
     "data": {
      "text/plain": [
       "I recently had a meal at the new Italian restaurant across the street."
      ]
     },
     "execution_count": 16,
     "metadata": {},
     "output_type": "execute_result"
    }
   ],
   "source": [
    "sentence"
   ]
  },
  {
   "cell_type": "code",
   "execution_count": 17,
   "metadata": {},
   "outputs": [
    {
     "data": {
      "text/plain": [
       "(had, [I, recently, meal, .])"
      ]
     },
     "execution_count": 17,
     "metadata": {},
     "output_type": "execute_result"
    }
   ],
   "source": [
    "token = sentence[2]\n",
    "token, list(token.children)"
   ]
  },
  {
   "cell_type": "code",
   "execution_count": 18,
   "metadata": {},
   "outputs": [
    {
     "data": {
      "text/plain": [
       "(had, [])"
      ]
     },
     "execution_count": 18,
     "metadata": {},
     "output_type": "execute_result"
    }
   ],
   "source": [
    "token, list(token.ancestors)"
   ]
  },
  {
   "cell_type": "code",
   "execution_count": 19,
   "metadata": {},
   "outputs": [],
   "source": [
    "dependencies_list = [(token, list(token.ancestors)) for token in sentence]"
   ]
  },
  {
   "cell_type": "code",
   "execution_count": 20,
   "metadata": {},
   "outputs": [
    {
     "data": {
      "text/plain": [
       "[(I, [had]),\n",
       " (recently, [had]),\n",
       " (had, []),\n",
       " (a, [meal, had]),\n",
       " (meal, [had]),\n",
       " (at, [meal, had]),\n",
       " (the, [restaurant, at, meal, had]),\n",
       " (new, [restaurant, at, meal, had]),\n",
       " (Italian, [restaurant, at, meal, had]),\n",
       " (restaurant, [at, meal, had]),\n",
       " (across, [restaurant, at, meal, had]),\n",
       " (the, [street, across, restaurant, at, meal, had]),\n",
       " (street, [across, restaurant, at, meal, had]),\n",
       " (., [had])]"
      ]
     },
     "execution_count": 20,
     "metadata": {},
     "output_type": "execute_result"
    }
   ],
   "source": [
    "dependencies_list"
   ]
  },
  {
   "cell_type": "code",
   "execution_count": 21,
   "metadata": {},
   "outputs": [],
   "source": [
    "from spacy import displacy"
   ]
  },
  {
   "cell_type": "code",
   "execution_count": 22,
   "metadata": {},
   "outputs": [
    {
     "name": "stdout",
     "output_type": "stream",
     "text": [
      "\n",
      "    Serving on port 5000...\n",
      "    Using the 'dep' visualizer\n",
      "\n"
     ]
    },
    {
     "name": "stderr",
     "output_type": "stream",
     "text": [
      "127.0.0.1 - - [08/Dec/2018 13:38:58] \"GET / HTTP/1.1\" 200 9863\n",
      "127.0.0.1 - - [08/Dec/2018 13:38:58] \"GET /favicon.ico HTTP/1.1\" 200 9863\n"
     ]
    },
    {
     "name": "stdout",
     "output_type": "stream",
     "text": [
      "\n",
      "    Shutting down server on port 5000.\n",
      "\n"
     ]
    }
   ],
   "source": [
    "displacy.serve(sentence)"
   ]
  },
  {
   "cell_type": "markdown",
   "metadata": {},
   "source": [
    "# Word vectors"
   ]
  },
  {
   "cell_type": "code",
   "execution_count": 23,
   "metadata": {},
   "outputs": [],
   "source": [
    "words = ['street', 'pizza', 'spaghetti']"
   ]
  },
  {
   "cell_type": "code",
   "execution_count": 24,
   "metadata": {},
   "outputs": [],
   "source": [
    "words_docs = [nlp(word) for word in words]"
   ]
  },
  {
   "cell_type": "code",
   "execution_count": 25,
   "metadata": {},
   "outputs": [],
   "source": [
    "street = words_docs[0]\n",
    "pizza = words_docs[1]\n",
    "spaghetti = words_docs[2]"
   ]
  },
  {
   "cell_type": "code",
   "execution_count": 26,
   "metadata": {},
   "outputs": [
    {
     "data": {
      "text/plain": [
       "(street, pizza, spaghetti)"
      ]
     },
     "execution_count": 26,
     "metadata": {},
     "output_type": "execute_result"
    }
   ],
   "source": [
    "street, pizza, spaghetti"
   ]
  },
  {
   "cell_type": "code",
   "execution_count": 27,
   "metadata": {},
   "outputs": [
    {
     "data": {
      "text/plain": [
       "array([ 0.0068727, -0.21634  ,  0.27831  , -0.26192  ,  0.22884  ,\n",
       "        0.89332  ,  0.4131   ,  0.27377  ,  0.22652  ,  1.5041   ,\n",
       "       -0.58059  ,  0.56083  , -0.18432  ,  0.27738  , -0.10709  ,\n",
       "       -0.13519  ,  0.023817 ,  1.1765   , -0.12659  ,  0.043173 ,\n",
       "        0.23242  , -0.63213  ,  0.40228  , -0.20605  ,  0.46381  ,\n",
       "       -0.12991  , -0.68031  , -0.010371 ,  0.50033  , -0.32266  ,\n",
       "        0.24053  ,  0.40178  ,  0.12051  , -0.13791  ,  0.40821  ,\n",
       "        0.54735  , -0.25946  ,  0.020254 ,  0.21249  ,  0.91965  ,\n",
       "       -0.21202  ,  0.66568  ,  0.25879  , -0.36124  , -0.10977  ,\n",
       "        0.87492  , -0.089425 ,  0.39184  , -0.32589  , -0.22331  ,\n",
       "       -0.17504  ,  0.074762 ,  0.45271  ,  0.085476 , -0.079526 ,\n",
       "       -0.23986  , -0.010322 ,  0.089974 ,  0.29794  ,  0.26672  ,\n",
       "       -0.044288 , -0.082716 ,  0.20801  ,  0.38404  ,  0.15281  ,\n",
       "       -1.1292   , -0.094527 ,  0.16901  , -0.018155 ,  0.31023  ,\n",
       "       -0.095716 ,  0.32587  , -0.2225   , -0.040376 , -0.52201  ,\n",
       "       -0.040547 , -0.2473   ,  0.059596 ,  0.31592  ,  0.48751  ,\n",
       "        0.14681  , -0.29337  ,  0.61309  , -0.7844   , -0.16297  ,\n",
       "        0.042847 ,  0.90914  ,  0.70536  , -0.44725  , -0.3035   ,\n",
       "       -0.26998  , -0.32488  ,  0.10539  , -0.24494  , -0.023413 ,\n",
       "        0.51872  , -0.0060798, -0.039611 ,  0.28618  ,  0.17071  ,\n",
       "       -0.661    , -0.1303   ,  0.59381  ,  0.33792  , -0.016678 ,\n",
       "       -0.31536  ,  0.92849  , -0.19661  ,  0.14412  ,  0.141    ,\n",
       "        0.095604 , -0.65534  , -0.66278  , -0.068806 ,  0.57471  ,\n",
       "       -0.34244  ,  0.30524  ,  0.070219 , -0.31053  ,  0.25418  ,\n",
       "        0.16362  ,  0.48417  ,  0.15889  ,  0.20571  , -0.24816  ,\n",
       "       -0.52146  ,  0.85366  ,  0.029624 , -0.20695  ,  0.68848  ,\n",
       "       -0.19801  , -0.55261  ,  0.25334  ,  0.23374  , -0.47797  ,\n",
       "       -0.58102  , -0.30506  , -0.24182  , -0.089947 ,  0.020074 ,\n",
       "       -2.442    , -0.38229  ,  0.38005  ,  0.45891  , -0.10147  ,\n",
       "       -0.46439  , -0.47909  ,  0.48057  ,  0.66937  ,  0.16773  ,\n",
       "        0.23094  , -0.0037971,  0.11692  ,  0.19027  ,  0.22866  ,\n",
       "       -0.10451  ,  0.16913  ,  0.1929   ,  0.21792  ,  0.3183   ,\n",
       "       -0.69639  , -0.039663 , -0.034875 , -0.34398  , -0.033303 ,\n",
       "       -0.44731  ,  0.39323  ,  0.28786  ,  0.41256  , -0.042063 ,\n",
       "        0.053043 ,  0.032974 ,  0.13665  , -0.47123  , -0.59784  ,\n",
       "       -0.15469  , -0.043701 , -0.28768  , -0.5192   , -0.81342  ,\n",
       "        0.28083  , -0.20795  , -0.0063995, -0.2165   , -0.18462  ,\n",
       "       -0.12112  ,  0.16446  ,  0.1074   , -0.21256  , -0.079728 ,\n",
       "       -0.26936  ,  0.1213   , -0.41473  , -0.3929   ,  0.11391  ,\n",
       "        0.017356 ,  0.6225   ,  0.39374  ,  0.18043  ,  0.06208  ,\n",
       "       -0.048457 , -0.13303  , -0.28215  ,  0.23984  ,  0.19951  ,\n",
       "        0.079811 , -0.24321  ,  0.52115  ,  0.37684  , -0.16641  ,\n",
       "        0.18813  ,  0.38081  , -0.068178 ,  0.17925  ,  0.26455  ,\n",
       "       -0.19848  ,  0.23375  , -0.075531 , -0.26779  ,  0.20576  ,\n",
       "       -0.14164  ,  0.18145  , -0.27216  , -0.27441  ,  0.07846  ,\n",
       "       -0.15033  , -1.008    ,  0.010385 , -0.42617  , -0.2697   ,\n",
       "       -0.1037   ,  0.23114  ,  0.31361  , -0.64973  ,  0.081318 ,\n",
       "       -0.20336  , -0.21733  , -0.47194  , -0.22844  ,  0.3207   ,\n",
       "        0.47024  ,  0.19194  , -0.38945  , -0.53102  ,  0.30868  ,\n",
       "        0.4516   ,  0.35045  , -0.41879  , -0.6142   , -0.25174  ,\n",
       "        0.1445   , -0.37202  , -0.29062  , -0.24497  ,  0.11433  ,\n",
       "        0.51326  , -0.10476  ,  0.070229 , -0.33251  , -0.26181  ,\n",
       "       -0.22115  , -0.098211 , -0.8274   , -0.73995  , -0.2146   ,\n",
       "        0.61523  , -0.36608  , -0.043749 , -1.0097   ,  0.19351  ,\n",
       "       -0.54799  ,  0.28998  , -0.07631  ,  0.075785 , -0.63011  ,\n",
       "        0.084629 , -0.021395 , -0.060536 ,  0.48363  ,  0.16488  ,\n",
       "        0.42662  , -0.1786   ,  0.14382  ,  0.3153   ,  0.017293 ,\n",
       "        0.6706   ,  0.49765  ,  0.34787  , -0.62071  ,  0.20983  ,\n",
       "        0.71446  ,  0.071448 , -0.14597  ,  0.50002  , -0.42449  ,\n",
       "       -0.3517   ,  0.10134  , -0.5875   ,  0.11043  ,  0.47559  ],\n",
       "      dtype=float32)"
      ]
     },
     "execution_count": 27,
     "metadata": {},
     "output_type": "execute_result"
    }
   ],
   "source": [
    "pizza.vector"
   ]
  },
  {
   "cell_type": "code",
   "execution_count": 28,
   "metadata": {},
   "outputs": [
    {
     "data": {
      "text/plain": [
       "0.5517106029170449"
      ]
     },
     "execution_count": 28,
     "metadata": {},
     "output_type": "execute_result"
    }
   ],
   "source": [
    "pizza.similarity(spaghetti)"
   ]
  },
  {
   "cell_type": "code",
   "execution_count": 29,
   "metadata": {},
   "outputs": [
    {
     "data": {
      "text/plain": [
       "0.3441291452936163"
      ]
     },
     "execution_count": 29,
     "metadata": {},
     "output_type": "execute_result"
    }
   ],
   "source": [
    "pizza.similarity(street)"
   ]
  },
  {
   "cell_type": "code",
   "execution_count": 30,
   "metadata": {},
   "outputs": [
    {
     "data": {
      "text/plain": [
       "array([0., 0., 0., 0., 0., 0., 0., 0., 0., 0., 0., 0., 0., 0., 0., 0., 0.,\n",
       "       0., 0., 0., 0., 0., 0., 0., 0., 0., 0., 0., 0., 0., 0., 0., 0., 0.,\n",
       "       0., 0., 0., 0., 0., 0., 0., 0., 0., 0., 0., 0., 0., 0., 0., 0., 0.,\n",
       "       0., 0., 0., 0., 0., 0., 0., 0., 0., 0., 0., 0., 0., 0., 0., 0., 0.,\n",
       "       0., 0., 0., 0., 0., 0., 0., 0., 0., 0., 0., 0., 0., 0., 0., 0., 0.,\n",
       "       0., 0., 0., 0., 0., 0., 0., 0., 0., 0., 0., 0., 0., 0., 0., 0., 0.,\n",
       "       0., 0., 0., 0., 0., 0., 0., 0., 0., 0., 0., 0., 0., 0., 0., 0., 0.,\n",
       "       0., 0., 0., 0., 0., 0., 0., 0., 0., 0., 0., 0., 0., 0., 0., 0., 0.,\n",
       "       0., 0., 0., 0., 0., 0., 0., 0., 0., 0., 0., 0., 0., 0., 0., 0., 0.,\n",
       "       0., 0., 0., 0., 0., 0., 0., 0., 0., 0., 0., 0., 0., 0., 0., 0., 0.,\n",
       "       0., 0., 0., 0., 0., 0., 0., 0., 0., 0., 0., 0., 0., 0., 0., 0., 0.,\n",
       "       0., 0., 0., 0., 0., 0., 0., 0., 0., 0., 0., 0., 0., 0., 0., 0., 0.,\n",
       "       0., 0., 0., 0., 0., 0., 0., 0., 0., 0., 0., 0., 0., 0., 0., 0., 0.,\n",
       "       0., 0., 0., 0., 0., 0., 0., 0., 0., 0., 0., 0., 0., 0., 0., 0., 0.,\n",
       "       0., 0., 0., 0., 0., 0., 0., 0., 0., 0., 0., 0., 0., 0., 0., 0., 0.,\n",
       "       0., 0., 0., 0., 0., 0., 0., 0., 0., 0., 0., 0., 0., 0., 0., 0., 0.,\n",
       "       0., 0., 0., 0., 0., 0., 0., 0., 0., 0., 0., 0., 0., 0., 0., 0., 0.,\n",
       "       0., 0., 0., 0., 0., 0., 0., 0., 0., 0., 0.], dtype=float32)"
      ]
     },
     "execution_count": 30,
     "metadata": {},
     "output_type": "execute_result"
    }
   ],
   "source": [
    "fake_word = 'qwertyuio'\n",
    "nlp(fake_word).vector"
   ]
  },
  {
   "cell_type": "code",
   "execution_count": null,
   "metadata": {},
   "outputs": [],
   "source": []
  }
 ],
 "metadata": {
  "kernelspec": {
   "display_name": "Python 3",
   "language": "python",
   "name": "python3"
  },
  "language_info": {
   "codemirror_mode": {
    "name": "ipython",
    "version": 3
   },
   "file_extension": ".py",
   "mimetype": "text/x-python",
   "name": "python",
   "nbconvert_exporter": "python",
   "pygments_lexer": "ipython3",
   "version": "3.5.6"
  }
 },
 "nbformat": 4,
 "nbformat_minor": 2
}
